{
  "nbformat": 4,
  "nbformat_minor": 0,
  "metadata": {
    "kernelspec": {
      "display_name": "Python 3",
      "language": "python",
      "name": "python3"
    },
    "language_info": {
      "codemirror_mode": {
        "name": "ipython",
        "version": 3
      },
      "file_extension": ".py",
      "mimetype": "text/x-python",
      "name": "python",
      "nbconvert_exporter": "python",
      "pygments_lexer": "ipython3",
      "version": "3.7.6"
    },
    "colab": {
      "name": "Statistical Analysis_A/B Testing.ipynb",
      "provenance": [],
      "toc_visible": true,
      "include_colab_link": true
    }
  },
  "cells": [
    {
      "cell_type": "markdown",
      "metadata": {
        "id": "view-in-github",
        "colab_type": "text"
      },
      "source": [
        "<a href=\"https://colab.research.google.com/github/FunmiSomoye/A-B-Testing/blob/main/Statistical_Analysis_AB_Testing.ipynb\" target=\"_parent\"><img src=\"https://colab.research.google.com/assets/colab-badge.svg\" alt=\"Open In Colab\"/></a>"
      ]
    },
    {
      "cell_type": "markdown",
      "metadata": {
        "id": "BD0phdt00QoH"
      },
      "source": [
        "#Start"
      ]
    },
    {
      "cell_type": "markdown",
      "metadata": {
        "id": "53ZCaVN70YzB"
      },
      "source": [
        "###Import Data and Dependencies"
      ]
    },
    {
      "cell_type": "markdown",
      "metadata": {
        "id": "MioLv2E-2DDq"
      },
      "source": [
        "#####Import Libraries and set Dependencies"
      ]
    },
    {
      "cell_type": "code",
      "metadata": {
        "id": "XeT0hLFA2FMc"
      },
      "source": [
        "#set dependencies\n",
        "#filter out warnings\n",
        "import warnings\n",
        "warnings.filterwarnings('ignore')\n",
        "\n",
        "#import libraries\n",
        "#basics\n",
        "import pandas as pd\n",
        "import numpy as np\n",
        "\n",
        "#statistics\n",
        "from statsmodels.stats.proportion import proportions_ztest\n",
        "from scipy.stats import ttest_ind\n",
        "\n",
        "#visualisation\n",
        "import seaborn as sns\n",
        "import matplotlib.pyplot as plt\n",
        "%matplotlib inline"
      ],
      "execution_count": null,
      "outputs": []
    },
    {
      "cell_type": "markdown",
      "metadata": {
        "id": "Kklj20R70brw"
      },
      "source": [
        "#####Import Data"
      ]
    },
    {
      "cell_type": "code",
      "metadata": {
        "colab": {
          "base_uri": "https://localhost:8080/"
        },
        "id": "ll_01wcj1Kvd",
        "outputId": "32b4e328-7cae-4876-f88c-d66325af4030"
      },
      "source": [
        "#mount gdrive\n",
        "from google.colab import drive\n",
        "drive.mount('/content/drive')"
      ],
      "execution_count": null,
      "outputs": [
        {
          "output_type": "stream",
          "text": [
            "Drive already mounted at /content/drive; to attempt to forcibly remount, call drive.mount(\"/content/drive\", force_remount=True).\n"
          ],
          "name": "stdout"
        }
      ]
    },
    {
      "cell_type": "code",
      "metadata": {
        "id": "edtYCzj4AjXq"
      },
      "source": [
        "#import data\n",
        "data = pd.read_excel('/content/drive/MyDrive/Colab Notebooks/Turing College/Final Project Results.xlsx', sheet_name = ['Control','Experiment'])\n",
        "control_data = data['Control']\n",
        "experiment_data = data['Experiment']"
      ],
      "execution_count": null,
      "outputs": []
    },
    {
      "cell_type": "markdown",
      "metadata": {
        "id": "AuHyglAk6iY9"
      },
      "source": [
        "###Data Insights"
      ]
    },
    {
      "cell_type": "markdown",
      "metadata": {
        "id": "kCaXUBBT7Cox"
      },
      "source": [
        "#####Experiment"
      ]
    },
    {
      "cell_type": "code",
      "metadata": {
        "colab": {
          "base_uri": "https://localhost:8080/",
          "height": 142
        },
        "id": "qCi0z9Li7E5m",
        "outputId": "934476a1-ecd2-49f0-b6be-615ffc415bfd"
      },
      "source": [
        "experiment.head(3)"
      ],
      "execution_count": null,
      "outputs": [
        {
          "output_type": "execute_result",
          "data": {
            "text/html": [
              "<div>\n",
              "<style scoped>\n",
              "    .dataframe tbody tr th:only-of-type {\n",
              "        vertical-align: middle;\n",
              "    }\n",
              "\n",
              "    .dataframe tbody tr th {\n",
              "        vertical-align: top;\n",
              "    }\n",
              "\n",
              "    .dataframe thead th {\n",
              "        text-align: right;\n",
              "    }\n",
              "</style>\n",
              "<table border=\"1\" class=\"dataframe\">\n",
              "  <thead>\n",
              "    <tr style=\"text-align: right;\">\n",
              "      <th></th>\n",
              "      <th>Date</th>\n",
              "      <th>Pageviews</th>\n",
              "      <th>Clicks</th>\n",
              "      <th>Enrollments</th>\n",
              "      <th>Payments</th>\n",
              "      <th>Tag</th>\n",
              "      <th>CTR</th>\n",
              "    </tr>\n",
              "  </thead>\n",
              "  <tbody>\n",
              "    <tr>\n",
              "      <th>0</th>\n",
              "      <td>Sat, Oct 11</td>\n",
              "      <td>7716</td>\n",
              "      <td>686</td>\n",
              "      <td>105.0</td>\n",
              "      <td>34.0</td>\n",
              "      <td>experiment</td>\n",
              "      <td>0.088906</td>\n",
              "    </tr>\n",
              "    <tr>\n",
              "      <th>1</th>\n",
              "      <td>Sun, Oct 12</td>\n",
              "      <td>9288</td>\n",
              "      <td>785</td>\n",
              "      <td>116.0</td>\n",
              "      <td>91.0</td>\n",
              "      <td>experiment</td>\n",
              "      <td>0.084518</td>\n",
              "    </tr>\n",
              "    <tr>\n",
              "      <th>2</th>\n",
              "      <td>Mon, Oct 13</td>\n",
              "      <td>10480</td>\n",
              "      <td>884</td>\n",
              "      <td>145.0</td>\n",
              "      <td>79.0</td>\n",
              "      <td>experiment</td>\n",
              "      <td>0.084351</td>\n",
              "    </tr>\n",
              "  </tbody>\n",
              "</table>\n",
              "</div>"
            ],
            "text/plain": [
              "          Date  Pageviews  Clicks  Enrollments  Payments         Tag       CTR\n",
              "0  Sat, Oct 11       7716     686        105.0      34.0  experiment  0.088906\n",
              "1  Sun, Oct 12       9288     785        116.0      91.0  experiment  0.084518\n",
              "2  Mon, Oct 13      10480     884        145.0      79.0  experiment  0.084351"
            ]
          },
          "metadata": {
            "tags": []
          },
          "execution_count": 115
        }
      ]
    },
    {
      "cell_type": "code",
      "metadata": {
        "colab": {
          "base_uri": "https://localhost:8080/"
        },
        "id": "ZprazpES7IcH",
        "outputId": "32351068-ae8d-4bc8-d7af-b7a3947dad23"
      },
      "source": [
        "experiment.shape"
      ],
      "execution_count": null,
      "outputs": [
        {
          "output_type": "execute_result",
          "data": {
            "text/plain": [
              "(37, 7)"
            ]
          },
          "metadata": {
            "tags": []
          },
          "execution_count": 116
        }
      ]
    },
    {
      "cell_type": "markdown",
      "metadata": {
        "id": "T8BXkY1OB3zb"
      },
      "source": [
        "There are 37 rows and 5 columns"
      ]
    },
    {
      "cell_type": "code",
      "metadata": {
        "colab": {
          "base_uri": "https://localhost:8080/"
        },
        "id": "hJZZ9H2w7Kp4",
        "outputId": "ef298f07-990d-4ec3-9b43-b924f23f6635"
      },
      "source": [
        "experiment.info()"
      ],
      "execution_count": null,
      "outputs": [
        {
          "output_type": "stream",
          "text": [
            "<class 'pandas.core.frame.DataFrame'>\n",
            "Int64Index: 37 entries, 0 to 36\n",
            "Data columns (total 7 columns):\n",
            " #   Column       Non-Null Count  Dtype  \n",
            "---  ------       --------------  -----  \n",
            " 0   Date         37 non-null     object \n",
            " 1   Pageviews    37 non-null     int64  \n",
            " 2   Clicks       37 non-null     int64  \n",
            " 3   Enrollments  23 non-null     float64\n",
            " 4   Payments     23 non-null     float64\n",
            " 5   Tag          37 non-null     object \n",
            " 6   CTR          37 non-null     float64\n",
            "dtypes: float64(3), int64(2), object(2)\n",
            "memory usage: 2.3+ KB\n"
          ],
          "name": "stdout"
        }
      ]
    },
    {
      "cell_type": "markdown",
      "metadata": {
        "id": "QlSVLv3uCCwm"
      },
      "source": [
        "There are clearly missing values in this data. <br/>\n",
        "Also, the datatypes for columns 3 and 4 would more appropriately be integers."
      ]
    },
    {
      "cell_type": "markdown",
      "metadata": {
        "id": "gikOCNmp6rP_"
      },
      "source": [
        "#####Control"
      ]
    },
    {
      "cell_type": "code",
      "metadata": {
        "colab": {
          "base_uri": "https://localhost:8080/",
          "height": 142
        },
        "id": "EQp_vakS6qRd",
        "outputId": "ee926647-0bc0-43f8-ccdf-7ac168ad5295"
      },
      "source": [
        "control.head(3)"
      ],
      "execution_count": null,
      "outputs": [
        {
          "output_type": "execute_result",
          "data": {
            "text/html": [
              "<div>\n",
              "<style scoped>\n",
              "    .dataframe tbody tr th:only-of-type {\n",
              "        vertical-align: middle;\n",
              "    }\n",
              "\n",
              "    .dataframe tbody tr th {\n",
              "        vertical-align: top;\n",
              "    }\n",
              "\n",
              "    .dataframe thead th {\n",
              "        text-align: right;\n",
              "    }\n",
              "</style>\n",
              "<table border=\"1\" class=\"dataframe\">\n",
              "  <thead>\n",
              "    <tr style=\"text-align: right;\">\n",
              "      <th></th>\n",
              "      <th>Date</th>\n",
              "      <th>Pageviews</th>\n",
              "      <th>Clicks</th>\n",
              "      <th>Enrollments</th>\n",
              "      <th>Payments</th>\n",
              "      <th>Tag</th>\n",
              "      <th>CTR</th>\n",
              "    </tr>\n",
              "  </thead>\n",
              "  <tbody>\n",
              "    <tr>\n",
              "      <th>37</th>\n",
              "      <td>Sat, Oct 11</td>\n",
              "      <td>7723</td>\n",
              "      <td>687</td>\n",
              "      <td>134.0</td>\n",
              "      <td>70.0</td>\n",
              "      <td>control</td>\n",
              "      <td>0.088955</td>\n",
              "    </tr>\n",
              "    <tr>\n",
              "      <th>38</th>\n",
              "      <td>Sun, Oct 12</td>\n",
              "      <td>9102</td>\n",
              "      <td>779</td>\n",
              "      <td>147.0</td>\n",
              "      <td>70.0</td>\n",
              "      <td>control</td>\n",
              "      <td>0.085586</td>\n",
              "    </tr>\n",
              "    <tr>\n",
              "      <th>39</th>\n",
              "      <td>Mon, Oct 13</td>\n",
              "      <td>10511</td>\n",
              "      <td>909</td>\n",
              "      <td>167.0</td>\n",
              "      <td>95.0</td>\n",
              "      <td>control</td>\n",
              "      <td>0.086481</td>\n",
              "    </tr>\n",
              "  </tbody>\n",
              "</table>\n",
              "</div>"
            ],
            "text/plain": [
              "           Date  Pageviews  Clicks  Enrollments  Payments      Tag       CTR\n",
              "37  Sat, Oct 11       7723     687        134.0      70.0  control  0.088955\n",
              "38  Sun, Oct 12       9102     779        147.0      70.0  control  0.085586\n",
              "39  Mon, Oct 13      10511     909        167.0      95.0  control  0.086481"
            ]
          },
          "metadata": {
            "tags": []
          },
          "execution_count": 118
        }
      ]
    },
    {
      "cell_type": "code",
      "metadata": {
        "colab": {
          "base_uri": "https://localhost:8080/"
        },
        "id": "a_vteubI640s",
        "outputId": "c5a8d330-2f0d-4df2-bb43-4069a836f9b6"
      },
      "source": [
        "control.shape"
      ],
      "execution_count": null,
      "outputs": [
        {
          "output_type": "execute_result",
          "data": {
            "text/plain": [
              "(37, 7)"
            ]
          },
          "metadata": {
            "tags": []
          },
          "execution_count": 119
        }
      ]
    },
    {
      "cell_type": "markdown",
      "metadata": {
        "id": "gYqXdPsqB9Nm"
      },
      "source": [
        "Control data is equal in dimension to Experiment data"
      ]
    },
    {
      "cell_type": "code",
      "metadata": {
        "colab": {
          "base_uri": "https://localhost:8080/"
        },
        "id": "14ISqYRk69TP",
        "outputId": "c1efd81e-90ab-4679-a7e3-54e5b2db246c"
      },
      "source": [
        "control.info()"
      ],
      "execution_count": null,
      "outputs": [
        {
          "output_type": "stream",
          "text": [
            "<class 'pandas.core.frame.DataFrame'>\n",
            "Int64Index: 37 entries, 37 to 73\n",
            "Data columns (total 7 columns):\n",
            " #   Column       Non-Null Count  Dtype  \n",
            "---  ------       --------------  -----  \n",
            " 0   Date         37 non-null     object \n",
            " 1   Pageviews    37 non-null     int64  \n",
            " 2   Clicks       37 non-null     int64  \n",
            " 3   Enrollments  23 non-null     float64\n",
            " 4   Payments     23 non-null     float64\n",
            " 5   Tag          37 non-null     object \n",
            " 6   CTR          37 non-null     float64\n",
            "dtypes: float64(3), int64(2), object(2)\n",
            "memory usage: 2.3+ KB\n"
          ],
          "name": "stdout"
        }
      ]
    },
    {
      "cell_type": "markdown",
      "metadata": {
        "id": "I6njNUJECqON"
      },
      "source": [
        "The Control data is similar in characteristics to the Experiment data."
      ]
    },
    {
      "cell_type": "markdown",
      "metadata": {
        "id": "5pzxJoWWC5vr"
      },
      "source": [
        "#####Combining the two Dataframes"
      ]
    },
    {
      "cell_type": "code",
      "metadata": {
        "colab": {
          "base_uri": "https://localhost:8080/",
          "height": 297
        },
        "id": "ueNyY0tDC1LG",
        "outputId": "960137c8-7418-4a2d-8579-3e7a84e5573e"
      },
      "source": [
        "experiment.describe()"
      ],
      "execution_count": null,
      "outputs": [
        {
          "output_type": "execute_result",
          "data": {
            "text/html": [
              "<div>\n",
              "<style scoped>\n",
              "    .dataframe tbody tr th:only-of-type {\n",
              "        vertical-align: middle;\n",
              "    }\n",
              "\n",
              "    .dataframe tbody tr th {\n",
              "        vertical-align: top;\n",
              "    }\n",
              "\n",
              "    .dataframe thead th {\n",
              "        text-align: right;\n",
              "    }\n",
              "</style>\n",
              "<table border=\"1\" class=\"dataframe\">\n",
              "  <thead>\n",
              "    <tr style=\"text-align: right;\">\n",
              "      <th></th>\n",
              "      <th>Pageviews</th>\n",
              "      <th>Clicks</th>\n",
              "      <th>Enrollments</th>\n",
              "      <th>Payments</th>\n",
              "      <th>CTR</th>\n",
              "    </tr>\n",
              "  </thead>\n",
              "  <tbody>\n",
              "    <tr>\n",
              "      <th>count</th>\n",
              "      <td>37.000000</td>\n",
              "      <td>37.000000</td>\n",
              "      <td>23.000000</td>\n",
              "      <td>23.000000</td>\n",
              "      <td>37.000000</td>\n",
              "    </tr>\n",
              "    <tr>\n",
              "      <th>mean</th>\n",
              "      <td>9315.135135</td>\n",
              "      <td>765.540541</td>\n",
              "      <td>148.826087</td>\n",
              "      <td>84.565217</td>\n",
              "      <td>0.082191</td>\n",
              "    </tr>\n",
              "    <tr>\n",
              "      <th>std</th>\n",
              "      <td>708.070781</td>\n",
              "      <td>64.578374</td>\n",
              "      <td>33.234227</td>\n",
              "      <td>23.060841</td>\n",
              "      <td>0.003116</td>\n",
              "    </tr>\n",
              "    <tr>\n",
              "      <th>min</th>\n",
              "      <td>7664.000000</td>\n",
              "      <td>642.000000</td>\n",
              "      <td>94.000000</td>\n",
              "      <td>34.000000</td>\n",
              "      <td>0.074133</td>\n",
              "    </tr>\n",
              "    <tr>\n",
              "      <th>25%</th>\n",
              "      <td>8881.000000</td>\n",
              "      <td>722.000000</td>\n",
              "      <td>127.000000</td>\n",
              "      <td>69.000000</td>\n",
              "      <td>0.079855</td>\n",
              "    </tr>\n",
              "    <tr>\n",
              "      <th>50%</th>\n",
              "      <td>9359.000000</td>\n",
              "      <td>770.000000</td>\n",
              "      <td>142.000000</td>\n",
              "      <td>91.000000</td>\n",
              "      <td>0.082722</td>\n",
              "    </tr>\n",
              "    <tr>\n",
              "      <th>75%</th>\n",
              "      <td>9737.000000</td>\n",
              "      <td>827.000000</td>\n",
              "      <td>172.000000</td>\n",
              "      <td>99.000000</td>\n",
              "      <td>0.084351</td>\n",
              "    </tr>\n",
              "    <tr>\n",
              "      <th>max</th>\n",
              "      <td>10551.000000</td>\n",
              "      <td>884.000000</td>\n",
              "      <td>213.000000</td>\n",
              "      <td>123.000000</td>\n",
              "      <td>0.088906</td>\n",
              "    </tr>\n",
              "  </tbody>\n",
              "</table>\n",
              "</div>"
            ],
            "text/plain": [
              "          Pageviews      Clicks  Enrollments    Payments        CTR\n",
              "count     37.000000   37.000000    23.000000   23.000000  37.000000\n",
              "mean    9315.135135  765.540541   148.826087   84.565217   0.082191\n",
              "std      708.070781   64.578374    33.234227   23.060841   0.003116\n",
              "min     7664.000000  642.000000    94.000000   34.000000   0.074133\n",
              "25%     8881.000000  722.000000   127.000000   69.000000   0.079855\n",
              "50%     9359.000000  770.000000   142.000000   91.000000   0.082722\n",
              "75%     9737.000000  827.000000   172.000000   99.000000   0.084351\n",
              "max    10551.000000  884.000000   213.000000  123.000000   0.088906"
            ]
          },
          "metadata": {
            "tags": []
          },
          "execution_count": 121
        }
      ]
    },
    {
      "cell_type": "code",
      "metadata": {
        "colab": {
          "base_uri": "https://localhost:8080/",
          "height": 297
        },
        "id": "VH9NUS7bCywS",
        "outputId": "af82975d-ab0c-44e9-87b0-556a388e89cf"
      },
      "source": [
        "control.describe()"
      ],
      "execution_count": null,
      "outputs": [
        {
          "output_type": "execute_result",
          "data": {
            "text/html": [
              "<div>\n",
              "<style scoped>\n",
              "    .dataframe tbody tr th:only-of-type {\n",
              "        vertical-align: middle;\n",
              "    }\n",
              "\n",
              "    .dataframe tbody tr th {\n",
              "        vertical-align: top;\n",
              "    }\n",
              "\n",
              "    .dataframe thead th {\n",
              "        text-align: right;\n",
              "    }\n",
              "</style>\n",
              "<table border=\"1\" class=\"dataframe\">\n",
              "  <thead>\n",
              "    <tr style=\"text-align: right;\">\n",
              "      <th></th>\n",
              "      <th>Pageviews</th>\n",
              "      <th>Clicks</th>\n",
              "      <th>Enrollments</th>\n",
              "      <th>Payments</th>\n",
              "      <th>CTR</th>\n",
              "    </tr>\n",
              "  </thead>\n",
              "  <tbody>\n",
              "    <tr>\n",
              "      <th>count</th>\n",
              "      <td>37.000000</td>\n",
              "      <td>37.000000</td>\n",
              "      <td>23.000000</td>\n",
              "      <td>23.000000</td>\n",
              "      <td>37.000000</td>\n",
              "    </tr>\n",
              "    <tr>\n",
              "      <th>mean</th>\n",
              "      <td>9339.000000</td>\n",
              "      <td>766.972973</td>\n",
              "      <td>164.565217</td>\n",
              "      <td>88.391304</td>\n",
              "      <td>0.082129</td>\n",
              "    </tr>\n",
              "    <tr>\n",
              "      <th>std</th>\n",
              "      <td>740.239563</td>\n",
              "      <td>68.286767</td>\n",
              "      <td>29.977000</td>\n",
              "      <td>20.650202</td>\n",
              "      <td>0.003229</td>\n",
              "    </tr>\n",
              "    <tr>\n",
              "      <th>min</th>\n",
              "      <td>7434.000000</td>\n",
              "      <td>632.000000</td>\n",
              "      <td>110.000000</td>\n",
              "      <td>56.000000</td>\n",
              "      <td>0.071338</td>\n",
              "    </tr>\n",
              "    <tr>\n",
              "      <th>25%</th>\n",
              "      <td>8896.000000</td>\n",
              "      <td>708.000000</td>\n",
              "      <td>146.500000</td>\n",
              "      <td>70.000000</td>\n",
              "      <td>0.079601</td>\n",
              "    </tr>\n",
              "    <tr>\n",
              "      <th>50%</th>\n",
              "      <td>9420.000000</td>\n",
              "      <td>759.000000</td>\n",
              "      <td>162.000000</td>\n",
              "      <td>91.000000</td>\n",
              "      <td>0.082909</td>\n",
              "    </tr>\n",
              "    <tr>\n",
              "      <th>75%</th>\n",
              "      <td>9871.000000</td>\n",
              "      <td>825.000000</td>\n",
              "      <td>175.000000</td>\n",
              "      <td>102.500000</td>\n",
              "      <td>0.084117</td>\n",
              "    </tr>\n",
              "    <tr>\n",
              "      <th>max</th>\n",
              "      <td>10667.000000</td>\n",
              "      <td>909.000000</td>\n",
              "      <td>233.000000</td>\n",
              "      <td>128.000000</td>\n",
              "      <td>0.088955</td>\n",
              "    </tr>\n",
              "  </tbody>\n",
              "</table>\n",
              "</div>"
            ],
            "text/plain": [
              "          Pageviews      Clicks  Enrollments    Payments        CTR\n",
              "count     37.000000   37.000000    23.000000   23.000000  37.000000\n",
              "mean    9339.000000  766.972973   164.565217   88.391304   0.082129\n",
              "std      740.239563   68.286767    29.977000   20.650202   0.003229\n",
              "min     7434.000000  632.000000   110.000000   56.000000   0.071338\n",
              "25%     8896.000000  708.000000   146.500000   70.000000   0.079601\n",
              "50%     9420.000000  759.000000   162.000000   91.000000   0.082909\n",
              "75%     9871.000000  825.000000   175.000000  102.500000   0.084117\n",
              "max    10667.000000  909.000000   233.000000  128.000000   0.088955"
            ]
          },
          "metadata": {
            "tags": []
          },
          "execution_count": 122
        }
      ]
    },
    {
      "cell_type": "markdown",
      "metadata": {
        "id": "cqWls6xzDHz2"
      },
      "source": [
        "The data distributions are different on face value."
      ]
    },
    {
      "cell_type": "code",
      "metadata": {
        "id": "G5fugkvME7rH"
      },
      "source": [
        "#create new columns to tag both datasets\n",
        "experiment_data['Tag'] = 'experiment'\n",
        "control_data['Tag'] = 'control'"
      ],
      "execution_count": null,
      "outputs": []
    },
    {
      "cell_type": "code",
      "metadata": {
        "id": "vAbBQFBSFbtD"
      },
      "source": [
        "#combine the two frames\n",
        "df = experiment_data.append(control_data, ignore_index=True)"
      ],
      "execution_count": null,
      "outputs": []
    },
    {
      "cell_type": "markdown",
      "metadata": {
        "id": "GvUfsKbm69on"
      },
      "source": [
        "###Feature Handling"
      ]
    },
    {
      "cell_type": "markdown",
      "metadata": {
        "id": "wYYvP2tU7zQh"
      },
      "source": [
        "#####Missing Values"
      ]
    },
    {
      "cell_type": "code",
      "metadata": {
        "colab": {
          "base_uri": "https://localhost:8080/",
          "height": 917
        },
        "id": "lMrRxc-R71FS",
        "outputId": "e62452b0-0534-47ba-f8fb-51578069222d"
      },
      "source": [
        "#inspect the missing values\n",
        "df[df.isnull().any(axis=1)]"
      ],
      "execution_count": null,
      "outputs": [
        {
          "output_type": "execute_result",
          "data": {
            "text/html": [
              "<div>\n",
              "<style scoped>\n",
              "    .dataframe tbody tr th:only-of-type {\n",
              "        vertical-align: middle;\n",
              "    }\n",
              "\n",
              "    .dataframe tbody tr th {\n",
              "        vertical-align: top;\n",
              "    }\n",
              "\n",
              "    .dataframe thead th {\n",
              "        text-align: right;\n",
              "    }\n",
              "</style>\n",
              "<table border=\"1\" class=\"dataframe\">\n",
              "  <thead>\n",
              "    <tr style=\"text-align: right;\">\n",
              "      <th></th>\n",
              "      <th>Date</th>\n",
              "      <th>Pageviews</th>\n",
              "      <th>Clicks</th>\n",
              "      <th>Enrollments</th>\n",
              "      <th>Payments</th>\n",
              "      <th>Tag</th>\n",
              "    </tr>\n",
              "  </thead>\n",
              "  <tbody>\n",
              "    <tr>\n",
              "      <th>23</th>\n",
              "      <td>Mon, Nov 3</td>\n",
              "      <td>9359</td>\n",
              "      <td>789</td>\n",
              "      <td>NaN</td>\n",
              "      <td>NaN</td>\n",
              "      <td>experiment</td>\n",
              "    </tr>\n",
              "    <tr>\n",
              "      <th>24</th>\n",
              "      <td>Tue, Nov 4</td>\n",
              "      <td>9427</td>\n",
              "      <td>743</td>\n",
              "      <td>NaN</td>\n",
              "      <td>NaN</td>\n",
              "      <td>experiment</td>\n",
              "    </tr>\n",
              "    <tr>\n",
              "      <th>25</th>\n",
              "      <td>Wed, Nov 5</td>\n",
              "      <td>9633</td>\n",
              "      <td>808</td>\n",
              "      <td>NaN</td>\n",
              "      <td>NaN</td>\n",
              "      <td>experiment</td>\n",
              "    </tr>\n",
              "    <tr>\n",
              "      <th>26</th>\n",
              "      <td>Thu, Nov 6</td>\n",
              "      <td>9842</td>\n",
              "      <td>831</td>\n",
              "      <td>NaN</td>\n",
              "      <td>NaN</td>\n",
              "      <td>experiment</td>\n",
              "    </tr>\n",
              "    <tr>\n",
              "      <th>27</th>\n",
              "      <td>Fri, Nov 7</td>\n",
              "      <td>9272</td>\n",
              "      <td>767</td>\n",
              "      <td>NaN</td>\n",
              "      <td>NaN</td>\n",
              "      <td>experiment</td>\n",
              "    </tr>\n",
              "    <tr>\n",
              "      <th>28</th>\n",
              "      <td>Sat, Nov 8</td>\n",
              "      <td>8969</td>\n",
              "      <td>760</td>\n",
              "      <td>NaN</td>\n",
              "      <td>NaN</td>\n",
              "      <td>experiment</td>\n",
              "    </tr>\n",
              "    <tr>\n",
              "      <th>29</th>\n",
              "      <td>Sun, Nov 9</td>\n",
              "      <td>9697</td>\n",
              "      <td>850</td>\n",
              "      <td>NaN</td>\n",
              "      <td>NaN</td>\n",
              "      <td>experiment</td>\n",
              "    </tr>\n",
              "    <tr>\n",
              "      <th>30</th>\n",
              "      <td>Mon, Nov 10</td>\n",
              "      <td>10445</td>\n",
              "      <td>851</td>\n",
              "      <td>NaN</td>\n",
              "      <td>NaN</td>\n",
              "      <td>experiment</td>\n",
              "    </tr>\n",
              "    <tr>\n",
              "      <th>31</th>\n",
              "      <td>Tue, Nov 11</td>\n",
              "      <td>9931</td>\n",
              "      <td>831</td>\n",
              "      <td>NaN</td>\n",
              "      <td>NaN</td>\n",
              "      <td>experiment</td>\n",
              "    </tr>\n",
              "    <tr>\n",
              "      <th>32</th>\n",
              "      <td>Wed, Nov 12</td>\n",
              "      <td>10042</td>\n",
              "      <td>802</td>\n",
              "      <td>NaN</td>\n",
              "      <td>NaN</td>\n",
              "      <td>experiment</td>\n",
              "    </tr>\n",
              "    <tr>\n",
              "      <th>33</th>\n",
              "      <td>Thu, Nov 13</td>\n",
              "      <td>9721</td>\n",
              "      <td>829</td>\n",
              "      <td>NaN</td>\n",
              "      <td>NaN</td>\n",
              "      <td>experiment</td>\n",
              "    </tr>\n",
              "    <tr>\n",
              "      <th>34</th>\n",
              "      <td>Fri, Nov 14</td>\n",
              "      <td>9304</td>\n",
              "      <td>770</td>\n",
              "      <td>NaN</td>\n",
              "      <td>NaN</td>\n",
              "      <td>experiment</td>\n",
              "    </tr>\n",
              "    <tr>\n",
              "      <th>35</th>\n",
              "      <td>Sat, Nov 15</td>\n",
              "      <td>8668</td>\n",
              "      <td>724</td>\n",
              "      <td>NaN</td>\n",
              "      <td>NaN</td>\n",
              "      <td>experiment</td>\n",
              "    </tr>\n",
              "    <tr>\n",
              "      <th>36</th>\n",
              "      <td>Sun, Nov 16</td>\n",
              "      <td>8988</td>\n",
              "      <td>710</td>\n",
              "      <td>NaN</td>\n",
              "      <td>NaN</td>\n",
              "      <td>experiment</td>\n",
              "    </tr>\n",
              "    <tr>\n",
              "      <th>60</th>\n",
              "      <td>Mon, Nov 3</td>\n",
              "      <td>9437</td>\n",
              "      <td>788</td>\n",
              "      <td>NaN</td>\n",
              "      <td>NaN</td>\n",
              "      <td>control</td>\n",
              "    </tr>\n",
              "    <tr>\n",
              "      <th>61</th>\n",
              "      <td>Tue, Nov 4</td>\n",
              "      <td>9420</td>\n",
              "      <td>781</td>\n",
              "      <td>NaN</td>\n",
              "      <td>NaN</td>\n",
              "      <td>control</td>\n",
              "    </tr>\n",
              "    <tr>\n",
              "      <th>62</th>\n",
              "      <td>Wed, Nov 5</td>\n",
              "      <td>9570</td>\n",
              "      <td>805</td>\n",
              "      <td>NaN</td>\n",
              "      <td>NaN</td>\n",
              "      <td>control</td>\n",
              "    </tr>\n",
              "    <tr>\n",
              "      <th>63</th>\n",
              "      <td>Thu, Nov 6</td>\n",
              "      <td>9921</td>\n",
              "      <td>830</td>\n",
              "      <td>NaN</td>\n",
              "      <td>NaN</td>\n",
              "      <td>control</td>\n",
              "    </tr>\n",
              "    <tr>\n",
              "      <th>64</th>\n",
              "      <td>Fri, Nov 7</td>\n",
              "      <td>9424</td>\n",
              "      <td>781</td>\n",
              "      <td>NaN</td>\n",
              "      <td>NaN</td>\n",
              "      <td>control</td>\n",
              "    </tr>\n",
              "    <tr>\n",
              "      <th>65</th>\n",
              "      <td>Sat, Nov 8</td>\n",
              "      <td>9010</td>\n",
              "      <td>756</td>\n",
              "      <td>NaN</td>\n",
              "      <td>NaN</td>\n",
              "      <td>control</td>\n",
              "    </tr>\n",
              "    <tr>\n",
              "      <th>66</th>\n",
              "      <td>Sun, Nov 9</td>\n",
              "      <td>9656</td>\n",
              "      <td>825</td>\n",
              "      <td>NaN</td>\n",
              "      <td>NaN</td>\n",
              "      <td>control</td>\n",
              "    </tr>\n",
              "    <tr>\n",
              "      <th>67</th>\n",
              "      <td>Mon, Nov 10</td>\n",
              "      <td>10419</td>\n",
              "      <td>874</td>\n",
              "      <td>NaN</td>\n",
              "      <td>NaN</td>\n",
              "      <td>control</td>\n",
              "    </tr>\n",
              "    <tr>\n",
              "      <th>68</th>\n",
              "      <td>Tue, Nov 11</td>\n",
              "      <td>9880</td>\n",
              "      <td>830</td>\n",
              "      <td>NaN</td>\n",
              "      <td>NaN</td>\n",
              "      <td>control</td>\n",
              "    </tr>\n",
              "    <tr>\n",
              "      <th>69</th>\n",
              "      <td>Wed, Nov 12</td>\n",
              "      <td>10134</td>\n",
              "      <td>801</td>\n",
              "      <td>NaN</td>\n",
              "      <td>NaN</td>\n",
              "      <td>control</td>\n",
              "    </tr>\n",
              "    <tr>\n",
              "      <th>70</th>\n",
              "      <td>Thu, Nov 13</td>\n",
              "      <td>9717</td>\n",
              "      <td>814</td>\n",
              "      <td>NaN</td>\n",
              "      <td>NaN</td>\n",
              "      <td>control</td>\n",
              "    </tr>\n",
              "    <tr>\n",
              "      <th>71</th>\n",
              "      <td>Fri, Nov 14</td>\n",
              "      <td>9192</td>\n",
              "      <td>735</td>\n",
              "      <td>NaN</td>\n",
              "      <td>NaN</td>\n",
              "      <td>control</td>\n",
              "    </tr>\n",
              "    <tr>\n",
              "      <th>72</th>\n",
              "      <td>Sat, Nov 15</td>\n",
              "      <td>8630</td>\n",
              "      <td>743</td>\n",
              "      <td>NaN</td>\n",
              "      <td>NaN</td>\n",
              "      <td>control</td>\n",
              "    </tr>\n",
              "    <tr>\n",
              "      <th>73</th>\n",
              "      <td>Sun, Nov 16</td>\n",
              "      <td>8970</td>\n",
              "      <td>722</td>\n",
              "      <td>NaN</td>\n",
              "      <td>NaN</td>\n",
              "      <td>control</td>\n",
              "    </tr>\n",
              "  </tbody>\n",
              "</table>\n",
              "</div>"
            ],
            "text/plain": [
              "           Date  Pageviews  Clicks  Enrollments  Payments         Tag\n",
              "23   Mon, Nov 3       9359     789          NaN       NaN  experiment\n",
              "24   Tue, Nov 4       9427     743          NaN       NaN  experiment\n",
              "25   Wed, Nov 5       9633     808          NaN       NaN  experiment\n",
              "26   Thu, Nov 6       9842     831          NaN       NaN  experiment\n",
              "27   Fri, Nov 7       9272     767          NaN       NaN  experiment\n",
              "28   Sat, Nov 8       8969     760          NaN       NaN  experiment\n",
              "29   Sun, Nov 9       9697     850          NaN       NaN  experiment\n",
              "30  Mon, Nov 10      10445     851          NaN       NaN  experiment\n",
              "31  Tue, Nov 11       9931     831          NaN       NaN  experiment\n",
              "32  Wed, Nov 12      10042     802          NaN       NaN  experiment\n",
              "33  Thu, Nov 13       9721     829          NaN       NaN  experiment\n",
              "34  Fri, Nov 14       9304     770          NaN       NaN  experiment\n",
              "35  Sat, Nov 15       8668     724          NaN       NaN  experiment\n",
              "36  Sun, Nov 16       8988     710          NaN       NaN  experiment\n",
              "60   Mon, Nov 3       9437     788          NaN       NaN     control\n",
              "61   Tue, Nov 4       9420     781          NaN       NaN     control\n",
              "62   Wed, Nov 5       9570     805          NaN       NaN     control\n",
              "63   Thu, Nov 6       9921     830          NaN       NaN     control\n",
              "64   Fri, Nov 7       9424     781          NaN       NaN     control\n",
              "65   Sat, Nov 8       9010     756          NaN       NaN     control\n",
              "66   Sun, Nov 9       9656     825          NaN       NaN     control\n",
              "67  Mon, Nov 10      10419     874          NaN       NaN     control\n",
              "68  Tue, Nov 11       9880     830          NaN       NaN     control\n",
              "69  Wed, Nov 12      10134     801          NaN       NaN     control\n",
              "70  Thu, Nov 13       9717     814          NaN       NaN     control\n",
              "71  Fri, Nov 14       9192     735          NaN       NaN     control\n",
              "72  Sat, Nov 15       8630     743          NaN       NaN     control\n",
              "73  Sun, Nov 16       8970     722          NaN       NaN     control"
            ]
          },
          "metadata": {
            "tags": []
          },
          "execution_count": 125
        }
      ]
    },
    {
      "cell_type": "markdown",
      "metadata": {
        "id": "xu56yYvL75ed"
      },
      "source": [
        "From the overview of the data, I posit that the missing data are not missing at random; first missing date on both Experiment and Control is Nov 3, and last missing date Nov 16. "
      ]
    },
    {
      "cell_type": "code",
      "metadata": {
        "colab": {
          "base_uri": "https://localhost:8080/"
        },
        "id": "c_cArF6M6oSv",
        "outputId": "24a58ef9-b78b-4715-fec3-481011abd040"
      },
      "source": [
        "#create a new data frame dropping all rows with at least 1 missing values\n",
        "df_2 = df.dropna(how='any')\n",
        "df_2.shape"
      ],
      "execution_count": null,
      "outputs": [
        {
          "output_type": "execute_result",
          "data": {
            "text/plain": [
              "(46, 6)"
            ]
          },
          "metadata": {
            "tags": []
          },
          "execution_count": 126
        }
      ]
    },
    {
      "cell_type": "markdown",
      "metadata": {
        "id": "svc17Ni97e-B"
      },
      "source": [
        "#####Datatype Conversion"
      ]
    },
    {
      "cell_type": "markdown",
      "metadata": {
        "id": "NzpYzGqkFhxp"
      },
      "source": [
        "Integer is a more appropriate datatype for Enrollments and Payments columns"
      ]
    },
    {
      "cell_type": "code",
      "metadata": {
        "id": "5sWA2A0VCG9W"
      },
      "source": [
        "#convert the data columns 3 and 4 from floats to integer\n",
        "cols = ['Enrollments', 'Payments']\n",
        "df_2[cols] = df_2[cols].applymap(np.int64)"
      ],
      "execution_count": null,
      "outputs": []
    },
    {
      "cell_type": "code",
      "metadata": {
        "colab": {
          "base_uri": "https://localhost:8080/"
        },
        "id": "Pk7yZ8UxDKBw",
        "outputId": "d8495e84-ee3a-44be-9fa3-e8038a5d31b5"
      },
      "source": [
        "df_2.info()"
      ],
      "execution_count": null,
      "outputs": [
        {
          "output_type": "stream",
          "text": [
            "<class 'pandas.core.frame.DataFrame'>\n",
            "Int64Index: 46 entries, 0 to 59\n",
            "Data columns (total 6 columns):\n",
            " #   Column       Non-Null Count  Dtype \n",
            "---  ------       --------------  ----- \n",
            " 0   Date         46 non-null     object\n",
            " 1   Pageviews    46 non-null     int64 \n",
            " 2   Clicks       46 non-null     int64 \n",
            " 3   Enrollments  46 non-null     int64 \n",
            " 4   Payments     46 non-null     int64 \n",
            " 5   Tag          46 non-null     object\n",
            "dtypes: int64(4), object(2)\n",
            "memory usage: 2.5+ KB\n"
          ],
          "name": "stdout"
        }
      ]
    },
    {
      "cell_type": "markdown",
      "metadata": {
        "id": "evL0eYdvDiYX"
      },
      "source": [
        "###Exploratory Data Analysis on Full Sample"
      ]
    },
    {
      "cell_type": "code",
      "metadata": {
        "colab": {
          "base_uri": "https://localhost:8080/",
          "height": 300
        },
        "id": "Oea1NNI5IBRs",
        "outputId": "f07fe3ea-ca8b-4eeb-e566-6eefacdc5da1"
      },
      "source": [
        "#compare the data distribution between columns\n",
        "fig = plt.figure(figsize=(8, 4))\n",
        "plt.title('Distribution of Features (5 Summary Statistics)', size=15)\n",
        "sns.boxplot(orient='h', data=df)"
      ],
      "execution_count": null,
      "outputs": [
        {
          "output_type": "execute_result",
          "data": {
            "text/plain": [
              "<matplotlib.axes._subplots.AxesSubplot at 0x7fa73c77aa50>"
            ]
          },
          "metadata": {
            "tags": []
          },
          "execution_count": 129
        },
        {
          "output_type": "display_data",
          "data": {
            "image/png": "[encoded data removed]",
            "text/plain": [
              "<Figure size 576x288 with 1 Axes>"
            ]
          },
          "metadata": {
            "tags": [],
            "needs_background": "light"
          }
        }
      ]
    },
    {
      "cell_type": "markdown",
      "metadata": {
        "id": "284UBioOJzJW"
      },
      "source": [
        "Generally, the number of views clearly outnumber the number of Clicks and conversions. There is an outlier at the lower end of the pageviews distribution."
      ]
    },
    {
      "cell_type": "code",
      "metadata": {
        "colab": {
          "base_uri": "https://localhost:8080/",
          "height": 314
        },
        "id": "WrOp9SlN1Itt",
        "outputId": "39687459-a253-414f-9071-78c6e62aba58"
      },
      "source": [
        "plt.title('Clicks vs Pageviews', size=15)\n",
        "sns.kdeplot(data=df, x='Pageviews', y='Clicks', hue='Tag', fill=True)"
      ],
      "execution_count": null,
      "outputs": [
        {
          "output_type": "execute_result",
          "data": {
            "text/plain": [
              "<matplotlib.axes._subplots.AxesSubplot at 0x7fa73c77e910>"
            ]
          },
          "metadata": {
            "tags": []
          },
          "execution_count": 130
        },
        {
          "output_type": "display_data",
          "data": {
            "image/png": "[encoded data removed]",
            "text/plain": [
              "<Figure size 432x288 with 1 Axes>"
            ]
          },
          "metadata": {
            "tags": [],
            "needs_background": "light"
          }
        }
      ]
    },
    {
      "cell_type": "code",
      "metadata": {
        "colab": {
          "base_uri": "https://localhost:8080/",
          "height": 314
        },
        "id": "-yeVxD0JJ7xN",
        "outputId": "24f48f33-955a-4272-bcf7-ad7d9c8d4fa3"
      },
      "source": [
        "#plot the data distribution for Pageviews\n",
        "fig = plt.figure(figsize=(10, 4))\n",
        "plt.title('Distribution of Daily Pageviews by Group', size=15)\n",
        "sns.histplot(data=df, x='Pageviews', hue='Tag', kde=True)"
      ],
      "execution_count": null,
      "outputs": [
        {
          "output_type": "execute_result",
          "data": {
            "text/plain": [
              "<matplotlib.axes._subplots.AxesSubplot at 0x7fa73c5fbe90>"
            ]
          },
          "metadata": {
            "tags": []
          },
          "execution_count": 131
        },
        {
          "output_type": "display_data",
          "data": {
            "image/png": "[encoded data removed]",
            "text/plain": [
              "<Figure size 720x288 with 1 Axes>"
            ]
          },
          "metadata": {
            "tags": [],
            "needs_background": "light"
          }
        }
      ]
    },
    {
      "cell_type": "code",
      "metadata": {
        "colab": {
          "base_uri": "https://localhost:8080/",
          "height": 314
        },
        "id": "9fCy3otayhI9",
        "outputId": "8ad7d4ab-f9e1-49b9-c0c1-7463eafeb4c8"
      },
      "source": [
        "#plot the data distribution for Pageviews\n",
        "fig = plt.figure(figsize=(10, 4))\n",
        "plt.title('Distribution of Daily Clicks by Group', size=15)\n",
        "sns.histplot(data=df, x='Clicks', hue='Tag', kde=True)"
      ],
      "execution_count": null,
      "outputs": [
        {
          "output_type": "execute_result",
          "data": {
            "text/plain": [
              "<matplotlib.axes._subplots.AxesSubplot at 0x7fa73c55c410>"
            ]
          },
          "metadata": {
            "tags": []
          },
          "execution_count": 132
        },
        {
          "output_type": "display_data",
          "data": {
            "image/png": "[encoded data removed]",
            "text/plain": [
              "<Figure size 720x288 with 1 Axes>"
            ]
          },
          "metadata": {
            "tags": [],
            "needs_background": "light"
          }
        }
      ]
    },
    {
      "cell_type": "markdown",
      "metadata": {
        "id": "anJwvRbxyDRp"
      },
      "source": [
        "The distribution for both groups are very similar.<br/>\n",
        "The number of pageviews ranges from around 7500 to 10500, 9000 to 9500 views occurring more often than below or above that range. The distribution of the pageviews is slightly skewed to the left because of the outliers as observed in the boxplot above.<br/>\n",
        "On most days, the number of clicks ranged from around 670 to around 830, with a special day having as many as 900 views."
      ]
    },
    {
      "cell_type": "markdown",
      "metadata": {
        "id": "YinBs8Y5W1Qu"
      },
      "source": [
        "###Statistical Data Analysis"
      ]
    },
    {
      "cell_type": "markdown",
      "metadata": {
        "id": "H5Z8JkAaXBGA"
      },
      "source": [
        "Null Hypothesis: The click-through rate of the Control group is similar to  the click-through rate Experiment group.<br/>\n",
        "Alternative Hypothesis: The click-through rates between the Control and Experiment groups are not the same. <br/>\n",
        "Confidence Level = 95%"
      ]
    },
    {
      "cell_type": "markdown",
      "metadata": {
        "id": "WfqoN2ICGH7H"
      },
      "source": [
        "Solve for zscore"
      ]
    },
    {
      "cell_type": "code",
      "metadata": {
        "id": "Oc-YGEIGGFqI"
      },
      "source": [
        "#define function to compute area under curve for the left side of distribution\n",
        "def auc(confidence_pct):\n",
        "  confidence_level = confidence_pct/100\n",
        "  alpha_level = (1-confidence_level)/2\n",
        "  auc_left = (1 + confidence_level)/2 #auc is area under curve\n",
        "  return alpha_level, auc_left"
      ],
      "execution_count": null,
      "outputs": []
    },
    {
      "cell_type": "code",
      "metadata": {
        "id": "TGLAx9IOGQKQ",
        "colab": {
          "base_uri": "https://localhost:8080/"
        },
        "outputId": "2259760e-5d2e-4b51-914d-17c9858f1603"
      },
      "source": [
        "#95% confidence level\n",
        "alpha_95, auc_95 = auc(95)\n",
        "print(alpha_95, auc_95)"
      ],
      "execution_count": null,
      "outputs": [
        {
          "output_type": "stream",
          "text": [
            "0.025000000000000022 0.975\n"
          ],
          "name": "stdout"
        }
      ]
    },
    {
      "cell_type": "markdown",
      "metadata": {
        "id": "7KjXSC93XV20"
      },
      "source": [
        "zscore is approximately 1.96 from the z table"
      ]
    },
    {
      "cell_type": "code",
      "metadata": {
        "id": "4SKF0OGxXWvo"
      },
      "source": [
        "#save zscore in a variable\n",
        "zscore_95 = 1.96"
      ],
      "execution_count": null,
      "outputs": []
    },
    {
      "cell_type": "markdown",
      "metadata": {
        "id": "IOcxV10QLkHC"
      },
      "source": [
        "Compute and save parameters"
      ]
    },
    {
      "cell_type": "code",
      "metadata": {
        "id": "u5zOhXvoa8X3"
      },
      "source": [
        "#create a column with click-through rates\n",
        "df['CTR'] = df['Clicks'] / df['Pageviews']"
      ],
      "execution_count": null,
      "outputs": []
    },
    {
      "cell_type": "code",
      "metadata": {
        "id": "OZZVo0O7gxf9"
      },
      "source": [
        "control = df[df['Tag']=='control']\n",
        "experiment = df[df['Tag']=='experiment']\n",
        "\n",
        "#control\n",
        "control_size = control['Pageviews'].sum()\n",
        "control_click_count = control['Clicks'].sum()\n",
        "\n",
        "#experiment\n",
        "experiment_size = experiment['Pageviews'].sum()\n",
        "experiment_click_count = experiment['Clicks'].sum()"
      ],
      "execution_count": null,
      "outputs": []
    },
    {
      "cell_type": "markdown",
      "metadata": {
        "id": "z8R01n2CYC-p"
      },
      "source": [
        "#####1. Visualize 95% confidence interval between control and experiment groups on [click-through rate]. Explain what the confidence interval means, what's the relationship with the population of a group."
      ]
    },
    {
      "cell_type": "code",
      "metadata": {
        "colab": {
          "base_uri": "https://localhost:8080/"
        },
        "id": "MO_kbAHNYNLi",
        "outputId": "95c8c7f9-7baa-4a7e-ce7c-92c414e87ab9"
      },
      "source": [
        "#compute and save parameters\n",
        "\n",
        "\"\"\"\n",
        "click-through rate\n",
        "assuming that pageviews is unique to a user:\n",
        "click-through rate = number of clicks / number of pageviews\n",
        "\"\"\"\n",
        "\n",
        "#control\n",
        "control_click_through = control_click_count/control_size #control proportion\n",
        "\n",
        "#experiment\n",
        "experiment_click_through = experiment_click_count/experiment_size #experiment proportion\n",
        "\n",
        "print('Control click-through rate: ', control_click_through, '\\n', 'Experiment click-through rate: ', experiment_click_through)"
      ],
      "execution_count": null,
      "outputs": [
        {
          "output_type": "stream",
          "text": [
            "Control click-through rate:  0.08212581357457682 \n",
            " Experiment click-through rate:  0.08218244066616376\n"
          ],
          "name": "stdout"
        }
      ]
    },
    {
      "cell_type": "code",
      "metadata": {
        "id": "Q5ktFrMFlmfj",
        "colab": {
          "base_uri": "https://localhost:8080/"
        },
        "outputId": "dce9e772-e687-4266-c66a-18917909edab"
      },
      "source": [
        "#compute standard errors\n",
        "se = np.sqrt(((control_click_through * (1-control_click_through))/control_size) + ((experiment_click_through * (1-experiment_click_through))/experiment_size))\n",
        "\n",
        "#compute proportion difference\n",
        "difference = control_click_through - experiment_click_through\n",
        "\n",
        "#confidence interval\n",
        "conf_interval = [(difference - (zscore_95*se)), (difference + (zscore_95*se))]\n",
        "\n",
        "print(\"The point estimate of the difference is\", difference)\n",
        "print(f\"The Confidence Interval is between {conf_interval[0]} and {conf_interval[1]}\")"
      ],
      "execution_count": null,
      "outputs": [
        {
          "output_type": "stream",
          "text": [
            "The point estimate of the difference is -5.662709158693602e-05\n",
            "The Confidence Interval is between -0.0013523068034943038 and 0.0012390526203204318\n"
          ],
          "name": "stdout"
        }
      ]
    },
    {
      "cell_type": "markdown",
      "metadata": {
        "id": "H4TNS-lbM5Tv"
      },
      "source": [
        "*Interpretation*<br/>\n",
        "I am 95% confident that the difference in the overall click-through rate between the Control group and the Experiment group is between approximately -0.0014 and 0.0012 in a one-month experiment period, with Experiment group having the higher values.<br/>\n",
        "The best estimate of the difference, the point estimate, is 5.66e-05 <br/>\n",
        "Since 0% is in the interval, there is not a significant difference between the Experiment and Control groups."
      ]
    },
    {
      "cell_type": "markdown",
      "metadata": {
        "id": "edgjTOvPVJf2"
      },
      "source": [
        "#####Visualise the Confidence Interval on Click-through Rate between Control and Experiment."
      ]
    },
    {
      "cell_type": "code",
      "metadata": {
        "colab": {
          "base_uri": "https://localhost:8080/",
          "height": 314
        },
        "id": "TxoPkxbE8cFK",
        "outputId": "cfcd1a54-c7c2-4544-c24b-e95e54c1c32c"
      },
      "source": [
        "fig = plt.figure(figsize=(10, 4))\n",
        "plt.title('Click-through Rate by Group', size=15)\n",
        "sns.kdeplot(data=df, x='CTR', hue='Tag')"
      ],
      "execution_count": null,
      "outputs": [
        {
          "output_type": "execute_result",
          "data": {
            "text/plain": [
              "<matplotlib.axes._subplots.AxesSubplot at 0x7fa73c4f64d0>"
            ]
          },
          "metadata": {
            "tags": []
          },
          "execution_count": 140
        },
        {
          "output_type": "display_data",
          "data": {
            "image/png": "[encoded data removed]",
            "text/plain": [
              "<Figure size 720x288 with 1 Axes>"
            ]
          },
          "metadata": {
            "tags": [],
            "needs_background": "light"
          }
        }
      ]
    },
    {
      "cell_type": "markdown",
      "metadata": {
        "id": "fbDCJXc4d7e6"
      },
      "source": [
        "####**Additional Metrics Definition**"
      ]
    },
    {
      "cell_type": "markdown",
      "metadata": {
        "id": "22pH80xUh_Q3"
      },
      "source": [
        "In considering Enrollments and Payments, we are limited up to the 3rd of November because the data from that date onwards are still yet to be logged in. Use the dataset without Nans."
      ]
    },
    {
      "cell_type": "markdown",
      "metadata": {
        "id": "tnJRFH3lfbCZ"
      },
      "source": [
        "**Overall Conversion Rate**\n",
        "\n",
        "To compare the overall effect of each design in translating to paying customers.\n",
        "Payments/Pageviews"
      ]
    },
    {
      "cell_type": "markdown",
      "metadata": {
        "id": "sjEZcXhZeo9C"
      },
      "source": [
        "**Click Conversion Rate**\n",
        "\n",
        "To compare the effectiveness of interaction the UI and UX of information to visitors to enrol. Enrollments/Clicks"
      ]
    },
    {
      "cell_type": "markdown",
      "metadata": {
        "id": "gHsO4QwOeD12"
      },
      "source": [
        "**Enrollment Conversion Rate**\n",
        "\n",
        "To compare the effectiveness of contents in converting enrollees to paying students. Payments/Enrollment"
      ]
    },
    {
      "cell_type": "code",
      "metadata": {
        "id": "Ug_J51zhiPm_"
      },
      "source": [
        "#compute and save parameters\n",
        "\n",
        "#OCR = Overall Conversion Rate\n",
        "df_2['OCR'] = df_2['Payments']/df_2['Pageviews']\n",
        "#CCR = Click Conversion Rate\n",
        "df_2['CCR'] = df_2['Enrollments']/df_2['Clicks']\n",
        "#ECR = Enrollment Conversion Rate\n",
        "df_2['ECR'] = df_2['Payments']/df_2['Enrollments']\n",
        "\n",
        "#split groups\n",
        "control_2 = df_2[df_2['Tag']=='control']\n",
        "experiment_2 = df_2[df_2['Tag']=='experiment']\n",
        "\n",
        "#control\n",
        "control_size_trunc = control_2['Pageviews'].sum()\n",
        "control_click_count_trunc = control_2['Clicks'].sum()\n",
        "control_payment_count = control_2['Payments'].sum()\n",
        "control_enrol_count = control_2['Enrollments'].sum()\n",
        "\n",
        "#experiment\n",
        "experiment_size_trunc = experiment_2['Pageviews'].sum()\n",
        "experiment_click_count_trunc = experiment_2['Clicks'].sum()\n",
        "experiment_payment_count = experiment_2['Payments'].sum()\n",
        "experiment_enrol_count = experiment_2['Enrollments'].sum()"
      ],
      "execution_count": null,
      "outputs": []
    },
    {
      "cell_type": "markdown",
      "metadata": {
        "id": "VrivUlXa0ksC"
      },
      "source": [
        "#####2. Verify that the difference in each of the metrics between control and experiment groups is statistically significant using z-test, 95% confidence level."
      ]
    },
    {
      "cell_type": "markdown",
      "metadata": {
        "id": "BO63g-MXfTTU"
      },
      "source": [
        "**Click-through Rate (Overall)**"
      ]
    },
    {
      "cell_type": "code",
      "metadata": {
        "colab": {
          "base_uri": "https://localhost:8080/"
        },
        "id": "5Ie3CdSV05os",
        "outputId": "7bb3e0a2-983f-4b4a-ebb5-1a633107e9a3"
      },
      "source": [
        "count = [control_click_count, experiment_click_count]\n",
        "nobs = [control_size, experiment_size]\n",
        "ctr_zstatistics, ctr_pvalue = proportions_ztest(count, nobs, alternative='two-sided', prop_var=False)\n",
        "print('ztstats:',ctr_zstatistics, '\\npvalue:',ctr_pvalue)"
      ],
      "execution_count": null,
      "outputs": [
        {
          "output_type": "stream",
          "text": [
            "ztstats: -0.08566094109242048 \n",
            "pvalue: 0.9317359524473912\n"
          ],
          "name": "stdout"
        }
      ]
    },
    {
      "cell_type": "markdown",
      "metadata": {
        "id": "X14_EBd2Osti"
      },
      "source": [
        "*Interpretation*<br/>\n",
        "p-value is 0.93, which is greater than the alpha value of 0.025, with a zvalue of |0.085|.<br/>\n",
        "We thus fail to reject the null hypothesis that there is no difference between the two groups.<br/>\n",
        "There is not sufficient evidence to conclude that there is a difference between the Click Through Rates of the control and the experiment groups."
      ]
    },
    {
      "cell_type": "markdown",
      "metadata": {
        "id": "YVTszZQvK8Bw"
      },
      "source": [
        "**Overall Conversion Rate**"
      ]
    },
    {
      "cell_type": "code",
      "metadata": {
        "colab": {
          "base_uri": "https://localhost:8080/"
        },
        "id": "NDr1FI0aLU54",
        "outputId": "168f5919-697c-4e6e-e468-b115b6aeee46"
      },
      "source": [
        "count = [control_payment_count, experiment_payment_count]\n",
        "nobs = [control_size_trunc, experiment_size_trunc]\n",
        "ocr_zstatistics, ocr_pvalue = proportions_ztest(count, nobs, alternative='two-sided', prop_var=False)\n",
        "print('ztstats:',ocr_zstatistics, '\\npvalue:',ocr_pvalue)"
      ],
      "execution_count": null,
      "outputs": [
        {
          "output_type": "stream",
          "text": [
            "ztstats: 1.281996502441112 \n",
            "pvalue: 0.19984387315558716\n"
          ],
          "name": "stdout"
        }
      ]
    },
    {
      "cell_type": "markdown",
      "metadata": {
        "id": "Q6CwmGPnNgqj"
      },
      "source": [
        "*Interpretation*<br/>\n",
        "p-value is 0.199, which is greater than the alpha value of 0.025, with a zvalue of 1.28 and a z-score of 0.899.<br/> \n",
        "We thus fail to reject the null hypothesis that there is no difference between the two groups.<br/>\n",
        "There is not sufficient evidence to conclude that there is a difference between the Overall Conversion Rates of the control and the experiment groups."
      ]
    },
    {
      "cell_type": "markdown",
      "metadata": {
        "id": "CODCBUnuLAaG"
      },
      "source": [
        "**Click Conversion Rate**"
      ]
    },
    {
      "cell_type": "code",
      "metadata": {
        "colab": {
          "base_uri": "https://localhost:8080/"
        },
        "id": "vzsDP2BzMnlT",
        "outputId": "923276ee-e6bb-404c-e889-0cb64cbb320f"
      },
      "source": [
        "count = [control_enrol_count, experiment_enrol_count]\n",
        "nobs = [control_click_count_trunc, experiment_click_count_trunc]\n",
        "ccr_zstatistics, ccr_pvalue = proportions_ztest(count, nobs, alternative='two-sided', prop_var=False)\n",
        "print('ztstats:',ccr_zstatistics, '\\npvalue:',ccr_pvalue)"
      ],
      "execution_count": null,
      "outputs": [
        {
          "output_type": "stream",
          "text": [
            "ztstats: 4.701830023753982 \n",
            "pvalue: 2.578401033720593e-06\n"
          ],
          "name": "stdout"
        }
      ]
    },
    {
      "cell_type": "markdown",
      "metadata": {
        "id": "dN3PAf49NiHw"
      },
      "source": [
        "*Interpretation*<br/>\n",
        "p-value is approximately 0.000026, which is less than the alpha value of 0.025, with a zvalue of 4.70 and a z-score greater than 1.<br/> \n",
        "We thus reject the null hypothesis that there is no difference between the two groups.<br/>\n",
        "This provides a strong evidence that there is a significant difference between the click conversion rates of the control and experiment groups."
      ]
    },
    {
      "cell_type": "markdown",
      "metadata": {
        "id": "391A583dLCq9"
      },
      "source": [
        "**Enrollment Conversion Rate**"
      ]
    },
    {
      "cell_type": "code",
      "metadata": {
        "colab": {
          "base_uri": "https://localhost:8080/"
        },
        "id": "XnV3Ecs7NGOw",
        "outputId": "e6ecab58-f9a7-4539-c999-29f054718dfe"
      },
      "source": [
        "count = [control_payment_count, experiment_payment_count]\n",
        "nobs = [control_enrol_count, experiment_enrol_count]\n",
        "ecr_zstatistics, ecr_pvalue = proportions_ztest(count, nobs, alternative='two-sided', prop_var=False)\n",
        "print('ztstats:',ecr_zstatistics, '\\npvalue:',ecr_pvalue)"
      ],
      "execution_count": null,
      "outputs": [
        {
          "output_type": "stream",
          "text": [
            "ztstats: -2.65092819003226 \n",
            "pvalue: 0.008027090611358445\n"
          ],
          "name": "stdout"
        }
      ]
    },
    {
      "cell_type": "markdown",
      "metadata": {
        "id": "HEL7mhFuNi0j"
      },
      "source": [
        "*Interpretation*<br/>\n",
        "p-value is 0.008, which is less than the alpha value of 0.025, with a zvalue of 2.65 and a z-score of 0.995.<br/> \n",
        "We thus reject the null hypothesis that there is no difference between the two groups.<br/>\n",
        "This provides a strong evidence that there is a significant difference between the enrollment conversion rates control and experiment groups."
      ]
    },
    {
      "cell_type": "code",
      "metadata": {
        "id": "ZKGJPiC113wP",
        "colab": {
          "base_uri": "https://localhost:8080/"
        },
        "outputId": "666a73fb-2821-41c3-e597-78f01d78bb98"
      },
      "source": [
        "control_2.shape"
      ],
      "execution_count": null,
      "outputs": [
        {
          "output_type": "execute_result",
          "data": {
            "text/plain": [
              "(23, 9)"
            ]
          },
          "metadata": {
            "tags": []
          },
          "execution_count": 146
        }
      ]
    },
    {
      "cell_type": "markdown",
      "metadata": {
        "id": "5Pro4X3M3CpP"
      },
      "source": [
        "Ztest is not ideal all the metrics excluding the Click-through rate. Ttest is bound to give different results."
      ]
    },
    {
      "cell_type": "markdown",
      "metadata": {
        "id": "L3uKkt6kLzqG"
      },
      "source": [
        "#####3. Verify that the difference in each of the metrics between control and experiment groups is statistically significant using t-test, 95% confidence level."
      ]
    },
    {
      "cell_type": "markdown",
      "metadata": {
        "id": "n2lpNAoSZR4Y"
      },
      "source": [
        "**Click-through Rate (Overall)**"
      ]
    },
    {
      "cell_type": "code",
      "metadata": {
        "id": "c2XA6CQFnMT2",
        "colab": {
          "base_uri": "https://localhost:8080/"
        },
        "outputId": "fd753c31-b878-458e-b8a6-ba2a8ee56c9b"
      },
      "source": [
        "control_ctr_arr = control['CTR'].values #control\n",
        "experiment_ctr_arr = experiment['CTR'].values #experiment\n",
        "\n",
        "ttest_ind(a=control_ctr_arr, b=experiment_ctr_arr)"
      ],
      "execution_count": null,
      "outputs": [
        {
          "output_type": "execute_result",
          "data": {
            "text/plain": [
              "Ttest_indResult(statistic=-0.08302608446561602, pvalue=0.9340611962072063)"
            ]
          },
          "metadata": {
            "tags": []
          },
          "execution_count": 147
        }
      ]
    },
    {
      "cell_type": "markdown",
      "metadata": {
        "id": "d1aWb24Gwocl"
      },
      "source": [
        "The ttest for Click-through Rate has the same conclusion as with the ztest."
      ]
    },
    {
      "cell_type": "markdown",
      "metadata": {
        "id": "EiBqQB-HZmTx"
      },
      "source": [
        "**Overall Conversion Rate**"
      ]
    },
    {
      "cell_type": "code",
      "metadata": {
        "colab": {
          "base_uri": "https://localhost:8080/"
        },
        "id": "z5bYmuuYgeBr",
        "outputId": "351cefb8-617e-417b-edd8-3bdb3d1de137"
      },
      "source": [
        "control_ocr_arr = control_2['OCR'].values #control\n",
        "experiment_ocr_arr = experiment_2['OCR'].values #experiment\n",
        "\n",
        "ttest_ind(a=control_ocr_arr, b=experiment_ocr_arr)"
      ],
      "execution_count": null,
      "outputs": [
        {
          "output_type": "execute_result",
          "data": {
            "text/plain": [
              "Ttest_indResult(statistic=0.5581848603463653, pvalue=0.5795475746555272)"
            ]
          },
          "metadata": {
            "tags": []
          },
          "execution_count": 148
        }
      ]
    },
    {
      "cell_type": "markdown",
      "metadata": {
        "id": "uay2xTlR8xlw"
      },
      "source": [
        "*Interpretation*<br/>\n",
        "According to this ttest, p-value is 0.57, which is greater than the alpha value of 0.025, with a tstatistic of 0.558.<br/> \n",
        "We thus fail to reject the null hypothesis that there is no difference between the two groups.<br/>\n",
        "There is not sufficient evidence to conclude that there is a difference between the Overall Conversion Rates of the control and the experiment groups.\n",
        "\n",
        "Which is the same conclusion as with the ztest."
      ]
    },
    {
      "cell_type": "markdown",
      "metadata": {
        "id": "DzCNMuhrZpWC"
      },
      "source": [
        "**Click Conversion Rate**"
      ]
    },
    {
      "cell_type": "code",
      "metadata": {
        "id": "5wFUfV6Gx1Oa",
        "colab": {
          "base_uri": "https://localhost:8080/"
        },
        "outputId": "a6ee4365-83c6-4a90-f464-7868da7cedf3"
      },
      "source": [
        "control_ccr_arr = control_2['CCR'].values #control\n",
        "experiment_ccr_arr = experiment_2['CCR'].values #experiment\n",
        "\n",
        "ttest_ind(a=control_ccr_arr, b=experiment_ccr_arr)"
      ],
      "execution_count": null,
      "outputs": [
        {
          "output_type": "execute_result",
          "data": {
            "text/plain": [
              "Ttest_indResult(statistic=1.5396752696188791, pvalue=0.13080105104323278)"
            ]
          },
          "metadata": {
            "tags": []
          },
          "execution_count": 149
        }
      ]
    },
    {
      "cell_type": "markdown",
      "metadata": {
        "id": "HLeEHa4D9Xfj"
      },
      "source": [
        "*Interpretation*<br/>\n",
        "According to this ttest, p-value is 0.13, which is greater than the alpha value of 0.025, with a tstatistic of 1.53.<br/> \n",
        "We thus fail to reject the null hypothesis that there is no difference between the two groups.<br/>\n",
        "There is not sufficient evidence to conclude that there is a difference between the Click Conversion Rates of the control and the experiment groups.\n",
        "\n",
        "This is different from the conclusion of the ztest where the Null Hypothesis was rejected."
      ]
    },
    {
      "cell_type": "markdown",
      "metadata": {
        "id": "dShEbYYOZm3W"
      },
      "source": [
        "**Enrollment Conversion Rate**"
      ]
    },
    {
      "cell_type": "code",
      "metadata": {
        "id": "CvLhzrQ51S4t",
        "colab": {
          "base_uri": "https://localhost:8080/"
        },
        "outputId": "f918a11a-4451-4e47-9a55-c4e65d91b36d"
      },
      "source": [
        "control_ecr_arr = control_2['ECR'].values #control\n",
        "experiment_ecr_arr = experiment_2['ECR'].values #experiment\n",
        "\n",
        "ttest_ind(a=control_ecr_arr, b=experiment_ecr_arr)"
      ],
      "execution_count": null,
      "outputs": [
        {
          "output_type": "execute_result",
          "data": {
            "text/plain": [
              "Ttest_indResult(statistic=-1.0081408912731535, pvalue=0.3188989662061842)"
            ]
          },
          "metadata": {
            "tags": []
          },
          "execution_count": 150
        }
      ]
    },
    {
      "cell_type": "markdown",
      "metadata": {
        "id": "XJN78Uxl9wGC"
      },
      "source": [
        "*Interpretation*<br/>\n",
        "According to this ttest, p-value is 0.31, which is greater than the alpha value of 0.025, with a tstatistic of -1.01.<br/> \n",
        "We thus fail to reject the null hypothesis that there is no difference between the two groups.<br/>\n",
        "There is not sufficient evidence to conclude that there is a difference between the Click Conversion Rates of the control and the experiment groups.\n",
        "\n",
        "This is different from the conclusion of the ztest where the Null Hypothesis was rejected."
      ]
    },
    {
      "cell_type": "markdown",
      "metadata": {
        "id": "Hf5RY7ISrcWC"
      },
      "source": [
        "#####4. Compare both test method results. Explain why they differ / do not differ that much and why."
      ]
    },
    {
      "cell_type": "markdown",
      "metadata": {
        "id": "QC6Xs-of95Em"
      },
      "source": [
        "The pvalues of the ztest and ttest results for the Click-through rates are very largely the same. This might be due to the fact that the data sizes are significantly larger than 30.\n",
        "\n",
        "The pvalues of the ztests and ttests for the other metrics differed greatly, although the Overall Conversion Rate had the same conclusion as in the ztest. This is most likely due to the fact that the dataset was truncated because of meeting data for dates beyond the 2nd of November in both groups, significan tly reducing the data sizes."
      ]
    },
    {
      "cell_type": "markdown",
      "metadata": {
        "id": "H3nv4bHkre4p"
      },
      "source": [
        "#####5. Choose 1 method (either z or t) and explore statistical significance of any metric under different confidence levels - 60%, 90%, 95%, 99%. If conclusions about significance differ under different confidence levels, explain why.\n"
      ]
    },
    {
      "cell_type": "markdown",
      "metadata": {
        "id": "I1CeiWeUM9Oh"
      },
      "source": [
        "**Click-through Rate (Overall)**"
      ]
    },
    {
      "cell_type": "code",
      "metadata": {
        "id": "Q7Ki3jQ3N12B",
        "colab": {
          "base_uri": "https://localhost:8080/"
        },
        "outputId": "d50f069b-b589-4ea3-a3cf-1bb05582de69"
      },
      "source": [
        "print('ztstats:',ctr_zstatistics, '\\npvalue:',ctr_pvalue)"
      ],
      "execution_count": null,
      "outputs": [
        {
          "output_type": "stream",
          "text": [
            "ztstats: -0.08566094109242048 \n",
            "pvalue: 0.9317359524473912\n"
          ],
          "name": "stdout"
        }
      ]
    },
    {
      "cell_type": "markdown",
      "metadata": {
        "id": "NI0o1mf5_MJR"
      },
      "source": [
        "#####*60% Confidence Level*"
      ]
    },
    {
      "cell_type": "code",
      "metadata": {
        "id": "DPVamn28CPyE",
        "colab": {
          "base_uri": "https://localhost:8080/"
        },
        "outputId": "accda5fc-6421-42c4-b0a0-6af293ddd3c3"
      },
      "source": [
        "#60% confidence level\n",
        "alpha_60, auc_60 = auc(60)\n",
        "print('alpha:',alpha_60, '\\nauc:',auc_60)"
      ],
      "execution_count": null,
      "outputs": [
        {
          "output_type": "stream",
          "text": [
            "alpha: 0.2 \n",
            "auc: 0.8\n"
          ],
          "name": "stdout"
        }
      ]
    },
    {
      "cell_type": "markdown",
      "metadata": {
        "id": "ZD1DS_RFHlpV"
      },
      "source": [
        "zscore is approximately 0.85 from the z table"
      ]
    },
    {
      "cell_type": "markdown",
      "metadata": {
        "id": "hO1IHka-QMtp"
      },
      "source": [
        "*Interpretation*<br/>\n",
        "p-value is 0.93, which is greater than the alpha value of 0.2, with a zstatistic of |0.085|.<br/> \n",
        "We thus fail to reject the null hypothesis that there is no difference between the two groups.<br/>\n",
        "There is not sufficient evidence to conclude that there is a difference between the Click Conversion Rates of the control and the experiment groups."
      ]
    },
    {
      "cell_type": "markdown",
      "metadata": {
        "id": "IrNRFEIY_RXx"
      },
      "source": [
        "#####*90% Confidence Level*"
      ]
    },
    {
      "cell_type": "code",
      "metadata": {
        "id": "nBeZ8KJzH2yM",
        "colab": {
          "base_uri": "https://localhost:8080/"
        },
        "outputId": "30a05201-92c1-44ca-a356-70bad0ca5ee3"
      },
      "source": [
        "#90% confidence level\n",
        "alpha_90, auc_90 = auc(90)\n",
        "print('alpha:',alpha_90, '\\nauc:',auc_90)"
      ],
      "execution_count": null,
      "outputs": [
        {
          "output_type": "stream",
          "text": [
            "alpha: 0.04999999999999999 \n",
            "auc: 0.95\n"
          ],
          "name": "stdout"
        }
      ]
    },
    {
      "cell_type": "markdown",
      "metadata": {
        "id": "tTpWApElIHbc"
      },
      "source": [
        "zscore is approximately 1.65 from the z table"
      ]
    },
    {
      "cell_type": "markdown",
      "metadata": {
        "id": "YXansG-ZSGax"
      },
      "source": [
        "*Interpretation*<br/>\n",
        "p-value is 0.93, which is greater than the alpha value of 0.049, with a zstatistic of |0.085|.<br/> \n",
        "We thus fail to reject the null hypothesis that there is no difference between the two groups.<br/>\n",
        "There is not sufficient evidence to conclude that there is a difference between the Click Conversion Rates of the control and the experiment groups."
      ]
    },
    {
      "cell_type": "markdown",
      "metadata": {
        "id": "hPsC76M6_VX3"
      },
      "source": [
        "#####*95% Confidence Level*"
      ]
    },
    {
      "cell_type": "code",
      "metadata": {
        "id": "7C7wYvAUJK1y",
        "colab": {
          "base_uri": "https://localhost:8080/"
        },
        "outputId": "1a49c4ee-d599-4208-df5d-ed4b356d4e91"
      },
      "source": [
        "#call previously computed zscore\n",
        "print('alpha:',alpha_95, '\\nauc:',auc_95)\n",
        "print('zscore:',zscore_95)"
      ],
      "execution_count": null,
      "outputs": [
        {
          "output_type": "stream",
          "text": [
            "alpha: 0.025000000000000022 \n",
            "auc: 0.975\n",
            "zscore: 1.96\n"
          ],
          "name": "stdout"
        }
      ]
    },
    {
      "cell_type": "markdown",
      "metadata": {
        "id": "KKYF-H9GSLBQ"
      },
      "source": [
        "*Interpretation*<br/>\n",
        "p-value is 0.93, which is greater than the alpha value of 0.025, with a zstatistic of |0.085|.<br/> \n",
        "We thus fail to reject the null hypothesis that there is no difference between the two groups.<br/>\n",
        "There is not sufficient evidence to conclude that there is a difference between the Click Conversion Rates of the control and the experiment groups."
      ]
    },
    {
      "cell_type": "markdown",
      "metadata": {
        "id": "5oLa-6DK_XVe"
      },
      "source": [
        "#####*99% Confidence Level*"
      ]
    },
    {
      "cell_type": "code",
      "metadata": {
        "id": "Ex57LkI5JRGc",
        "colab": {
          "base_uri": "https://localhost:8080/"
        },
        "outputId": "bc8b8d16-f016-4c54-82f3-778fcab242b2"
      },
      "source": [
        "#99% confidence level\n",
        "alpha_99, auc_99 = auc(99)\n",
        "print('alpha:',alpha_99, '\\nauc:',auc_99)"
      ],
      "execution_count": null,
      "outputs": [
        {
          "output_type": "stream",
          "text": [
            "alpha: 0.0050000000000000044 \n",
            "auc: 0.995\n"
          ],
          "name": "stdout"
        }
      ]
    },
    {
      "cell_type": "markdown",
      "metadata": {
        "id": "EOSSHeTrrouD"
      },
      "source": [
        "zscore is approximately 2.58 from the z table"
      ]
    },
    {
      "cell_type": "markdown",
      "metadata": {
        "id": "2FLqIp4_QJJ1"
      },
      "source": [
        "*Interpretation*<br/>\n",
        "p-value is 0.93, which is greater than the alpha value of 0.005, with a zstatistic of |0.085|.<br/> \n",
        "We thus fail to reject the null hypothesis that there is no difference between the two groups.<br/>\n",
        "There is not sufficient evidence to conclude that there is a difference between the Click Conversion Rates of the control and the experiment groups."
      ]
    },
    {
      "cell_type": "markdown",
      "metadata": {
        "id": "P9xfeDdVSuZA"
      },
      "source": [
        "The conclusions for the conducted ztetsts are the same across all confidence levels for the click-through rate."
      ]
    },
    {
      "cell_type": "markdown",
      "metadata": {
        "id": "XfFrTZPPznBq"
      },
      "source": [
        "###Summary"
      ]
    },
    {
      "cell_type": "markdown",
      "metadata": {
        "id": "19nNFlGvzpqA"
      },
      "source": [
        "*   Other metrics evaluated apart from the Click-through Rate includes *Overall Conversion Rate*, *Click Conversion Rate*, and *Enrollment Conversion Rate*\n",
        "*   The p-values of the ztest and ttest results for the Click-through rates are very largely the same. However, the pvalues of the ztests and ttests for the other metrics differed greatly, although the Overall Conversion Rate had the same conclusion as in the ztest.\n",
        "*   The conclusions for the conducted ztests are the same across all confidence levels for the click-through rate.\n",
        "*   There is not a significant difference between the Experiment and Control groups, also as confirmed from the Confidence Intervals"
      ]
    }
  ]
}